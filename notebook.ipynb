{
 "cells": [
  {
   "cell_type": "code",
   "execution_count": null,
   "id": "e7663280",
   "metadata": {},
   "outputs": [
    {
     "data": {
      "text/plain": [
       "AIMessageChunk(content='Movie: Forrest Gump\\nDirector: Robert Zemeckis\\nCast: Tom Hanks, Robin Wright, Gary Sinise\\nBudget: $55 million\\nBox Office: $678.2 million\\nGenre: Drama, Comedy\\nSynopsis: The story follows several decades in the life of Forrest Gump, a slow-witted but kind-hearted man from Alabama who witnesses several defining historical events.')"
      ]
     },
     "execution_count": 9,
     "metadata": {},
     "output_type": "execute_result"
    }
   ],
   "source": [
    "from langchain.chat_models import ChatOpenAI\n",
    "from langchain.prompts import FewShotChatMessagePromptTemplate, ChatPromptTemplate\n",
    "from langchain.callbacks import StreamingStdOutCallbackHandler\n",
    "from langchain.globals import set_llm_cache\n",
    "from langchain.cache import SQLiteCache\n",
    "\n",
    "# Set cache for cost saving\n",
    "set_llm_cache(SQLiteCache(\"cache.db\"))\n",
    "\n",
    "# ChatOpenAI initialize\n",
    "chat = ChatOpenAI(\n",
    "    model_name=\"gpt-3.5-turbo\",\n",
    "    temperature=0.1,\n",
    "    streaming=True,\n",
    "    callbacks=[\n",
    "        StreamingStdOutCallbackHandler(),\n",
    "    ],\n",
    ")\n",
    "\n",
    "# Few-shot examples\n",
    "examples = [\n",
    "    {\n",
    "        \"input\": \"Titanic\",\n",
    "        \"output\": \"\"\"Movie: Titanic\n",
    "Director: James Cameron\n",
    "Cast: Leonardo DiCaprio, Kate Winslet, Billy Zane\n",
    "Budget: $200 million\n",
    "Box Office: $2.2 billion\n",
    "Genre: Romance, Drama\n",
    "Synopsis: A young aristocrat falls in love with a kind but poor artist aboard the luxurious, ill-fated R.M.S. Titanic.\"\"\"\n",
    "    },\n",
    "    {\n",
    "        \"input\": \"The Dark Knight\",\n",
    "        \"output\": \"\"\"Movie: The Dark Knight\n",
    "Director: Christopher Nolan\n",
    "Cast: Christian Bale, Heath Ledger, Aaron Eckhart\n",
    "Budget: $185 million\n",
    "Box Office: $1.005 billion\n",
    "Genre: Action, Crime, Drama\n",
    "Synopsis: Batman faces the Joker, a criminal mastermind who wants to plunge Gotham City into anarchy.\"\"\"\n",
    "    },\n",
    "    {\n",
    "        \"input\": \"Forrest Gump\",\n",
    "        \"output\": \"\"\"Movie: Forrest Gump\n",
    "Director: Robert Zemeckis\n",
    "Cast: Tom Hanks, Robin Wright, Gary Sinise\n",
    "Budget: $55 million\n",
    "Box Office: $678.2 million\n",
    "Genre: Drama, Comedy\n",
    "Synopsis: The story follows several decades in the life of Forrest Gump, a slow-witted but kind-hearted man from Alabama who witnesses several defining historical events.\"\"\"\n",
    "    }\n",
    "]\n",
    "\n",
    "# Few-shot example prompt\n",
    "example_prompt = ChatPromptTemplate.from_messages([\n",
    "    (\"human\", \"{input}\"),\n",
    "    (\"ai\", \"{output}\"),\n",
    "])\n",
    "\n",
    "# Few-shot chat message prompt template\n",
    "few_shot_prompt = FewShotChatMessagePromptTemplate(\n",
    "    example_prompt=example_prompt,\n",
    "    examples=examples,\n",
    ")\n",
    "\n",
    "# final prompt template\n",
    "final_prompt = ChatPromptTemplate.from_messages([\n",
    "    (\"system\", \"You are a movie database expert. When given a movie title, you provide detailed information about the movie in the exact format shown in the examples. Always follow the same structure and format.\"),\n",
    "    few_shot_prompt,\n",
    "    (\"human\", \"{input}\"),\n",
    "])\n",
    "\n",
    "# make chain\n",
    "movie_chain = final_prompt | chat\n",
    "\n"
   ]
  },
  {
   "cell_type": "code",
   "execution_count": 11,
   "id": "7b7537e3",
   "metadata": {},
   "outputs": [
    {
     "data": {
      "text/plain": [
       "AIMessageChunk(content='Movie: The Dark Knight\\nDirector: Christopher Nolan\\nCast: Christian Bale, Heath Ledger, Aaron Eckhart\\nBudget: $185 million\\nBox Office: $1.005 billion\\nGenre: Action, Crime, Drama\\nSynopsis: Batman faces the Joker, a criminal mastermind who wants to plunge Gotham City into anarchy.')"
      ]
     },
     "execution_count": 11,
     "metadata": {},
     "output_type": "execute_result"
    }
   ],
   "source": [
    "movie_chain.invoke({\"input\": \"The Dark Knight\"})"
   ]
  }
 ],
 "metadata": {
  "kernelspec": {
   "display_name": "env",
   "language": "python",
   "name": "python3"
  },
  "language_info": {
   "codemirror_mode": {
    "name": "ipython",
    "version": 3
   },
   "file_extension": ".py",
   "mimetype": "text/x-python",
   "name": "python",
   "nbconvert_exporter": "python",
   "pygments_lexer": "ipython3",
   "version": "3.11.13"
  }
 },
 "nbformat": 4,
 "nbformat_minor": 5
}
