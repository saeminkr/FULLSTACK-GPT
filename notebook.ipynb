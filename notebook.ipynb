{
 "cells": [
  {
   "cell_type": "code",
   "execution_count": 31,
   "id": "e7663280",
   "metadata": {},
   "outputs": [
    {
     "name": "stdout",
     "output_type": "stream",
     "text": [
      "파이썬은,\n",
      "간결하고 강력한,\n",
      "코드의 아름다움.이 하이쿠는 파이썬 프로그래밍 언어에 대한 아름다움을 표현하고 있습니다. \"간결하고 강력한\"이라는 표현은 파이썬의 코드가 간결하면서도 강력하다는 특징을 강조하고 있습니다. 이는 파이썬이 다른 프로그래밍 언어에 비해 코드를 간단하게 작성할 수 있고, 동시에 강력한 기능을 제공한다는 것을 의미합니다. \n",
      "\n",
      "또한, \"코드의 아름다움\"이라는 표현은 파이썬 코드의 아름다움과 우아함을 강조하고 있습니다. 파이썬은 가독성이 뛰어나고 문법이 간결하여 코드를 작성할 때 아름다운 구조를 만들 수 있습니다. 이로 인해 파이썬 코드는 마치 시를 쓰는 것처럼 아름다운 형태를 가지고 있습니다.\n",
      "\n",
      "이 하이쿠는 파이썬이라는 주제에 대한 긍정적인 감정과 창의성을 담고 있으며, 간결하고 아름다운 언어로 표현되어 있습니다."
     ]
    },
    {
     "data": {
      "text/plain": [
       "AIMessageChunk(content='이 하이쿠는 파이썬 프로그래밍 언어에 대한 아름다움을 표현하고 있습니다. \"간결하고 강력한\"이라는 표현은 파이썬의 코드가 간결하면서도 강력하다는 특징을 강조하고 있습니다. 이는 파이썬이 다른 프로그래밍 언어에 비해 코드를 간단하게 작성할 수 있고, 동시에 강력한 기능을 제공한다는 것을 의미합니다. \\n\\n또한, \"코드의 아름다움\"이라는 표현은 파이썬 코드의 아름다움과 우아함을 강조하고 있습니다. 파이썬은 가독성이 뛰어나고 문법이 간결하여 코드를 작성할 때 아름다운 구조를 만들 수 있습니다. 이로 인해 파이썬 코드는 마치 시를 쓰는 것처럼 아름다운 형태를 가지고 있습니다.\\n\\n이 하이쿠는 파이썬이라는 주제에 대한 긍정적인 감정과 창의성을 담고 있으며, 간결하고 아름다운 언어로 표현되어 있습니다.')"
      ]
     },
     "execution_count": 31,
     "metadata": {},
     "output_type": "execute_result"
    }
   ],
   "source": [
    "from langchain.chat_models import ChatOpenAI\n",
    "from langchain.prompts import ChatPromptTemplate\n",
    "from langchain.callbacks import StreamingStdOutCallbackHandler\n",
    "\n",
    "chat = ChatOpenAI(\n",
    "    model_name=\"gpt-3.5-turbo\",\n",
    "    temperature=0.1,\n",
    "    streaming=True,\n",
    "    callbacks=[\n",
    "        StreamingStdOutCallbackHandler(),\n",
    "    ],\n",
    ")\n",
    "\n",
    "haiku_prompt = ChatPromptTemplate.from_messages(\n",
    "    [\n",
    "        (\n",
    "            \"system\",\n",
    "            \"You are a poet specialized in writing Haikus about programming languages. You create beautiful, meaningful Haikus that capture the essence and characteristics of programming languages. Follow the traditional 5-7-5 syllable structure. Write in {language}.\",\n",
    "        ),\n",
    "        (\"human\", \"Write a Haiku about Python programming language.\"),\n",
    "    ]\n",
    ")\n",
    "\n",
    "haiku_chain = haiku_prompt | chat\n",
    "\n",
    "explanation_prompt = ChatPromptTemplate.from_messages(\n",
    "    [\n",
    "        (\n",
    "            \"system\",\n",
    "            \"You are a literature expert specialized in explaining Haikus. You analyze the meaning, metaphors, and literary devices used in Haikus. You explain how the imagery and structure of the Haiku relates to its subject matter. Write in {language}.\",\n",
    "        ),\n",
    "        (\"human\", \"Please explain this Haiku: {haiku}\"),\n",
    "    ]\n",
    ")\n",
    "\n",
    "explanation_chain = explanation_prompt | chat\n",
    "\n",
    "final_chain = {\"haiku\": haiku_chain, \"language\": lambda x: x[\"language\"]} | explanation_chain\n",
    "\n",
    "final_chain.invoke({\"language\": \"Korean\"})"
   ]
  }
 ],
 "metadata": {
  "kernelspec": {
   "display_name": "env",
   "language": "python",
   "name": "python3"
  },
  "language_info": {
   "codemirror_mode": {
    "name": "ipython",
    "version": 3
   },
   "file_extension": ".py",
   "mimetype": "text/x-python",
   "name": "python",
   "nbconvert_exporter": "python",
   "pygments_lexer": "ipython3",
   "version": "3.11.13"
  }
 },
 "nbformat": 4,
 "nbformat_minor": 5
}
