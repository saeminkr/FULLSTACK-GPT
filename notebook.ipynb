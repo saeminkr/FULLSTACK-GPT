{
 "cells": [
  {
   "cell_type": "code",
   "execution_count": 45,
   "id": "e7663280",
   "metadata": {},
   "outputs": [],
   "source": [
    "from langchain.memory import ConversationSummaryBufferMemory\n",
    "from langchain.chat_models import ChatOpenAI\n",
    "from langchain.schema.runnable import RunnablePassthrough\n",
    "from langchain.prompts import ChatPromptTemplate, MessagesPlaceholder, FewShotChatMessagePromptTemplate\n",
    "\n",
    "# ChatOpenAI initialize\n",
    "llm = ChatOpenAI(\n",
    "    model_name=\"gpt-3.5-turbo\",\n",
    "    temperature=0.1,\n",
    "    streaming=False,\n",
    ")\n",
    "\n",
    "memory = ConversationSummaryBufferMemory(\n",
    "    llm=llm,\n",
    "    max_token_limit=120,\n",
    "    return_messages=True,\n",
    ")\n",
    "\n",
    "# Few-shot examples for movie to emoji conversion (Marvel movies!!)\n",
    "examples = [\n",
    "    {\"input\": \"Spider-Man\", \"output\": \"🕷️🕸️👨\"},\n",
    "    {\"input\": \"Iron Man\", \"output\": \"🤖⚡🔴\"},\n",
    "    {\"input\": \"Thor\", \"output\": \"⚡🔨👨\"},\n",
    "    {\"input\": \"Captain America\", \"output\": \"🛡️⭐🇺🇸\"},\n",
    "    {\"input\": \"Avengers\", \"output\": \"🦸‍♂️🌍💥\"},\n",
    "]\n",
    "\n",
    "# Create example prompt\n",
    "example_prompt = ChatPromptTemplate.from_messages([\n",
    "    (\"human\", \"{input}\"),\n",
    "    (\"ai\", \"{output}\"),\n",
    "])\n",
    "\n",
    "# Create few-shot prompt template\n",
    "few_shot_prompt = FewShotChatMessagePromptTemplate(\n",
    "    example_prompt=example_prompt,\n",
    "    examples=examples,\n",
    ")\n",
    "\n",
    "# Create the main prompt template\n",
    "prompt = ChatPromptTemplate.from_messages([\n",
    "    (\"system\", \"You are a helpful AI that converts movie titles into exactly 3 emojis.\"),\n",
    "    MessagesPlaceholder(variable_name=\"history\"),\n",
    "    few_shot_prompt,\n",
    "    (\"human\", \"{question}\"),\n",
    "])\n",
    "\n",
    "def load_memory(_):\n",
    "    return memory.load_memory_variables({})[\"history\"]\n",
    "\n",
    "chain = RunnablePassthrough.assign(history=load_memory) | prompt | llm\n",
    "\n",
    "def invoke_chain(question):\n",
    "    result = chain.invoke({\"question\": question})\n",
    "    memory.save_context(\n",
    "        {\"input\": question},\n",
    "        {\"output\": result.content},\n",
    "    )\n",
    "    print(f\"content='{result.content}'\")\n",
    "    return result"
   ]
  },
  {
   "cell_type": "code",
   "execution_count": 46,
   "id": "bfcd06ea",
   "metadata": {},
   "outputs": [
    {
     "name": "stdout",
     "output_type": "stream",
     "text": [
      "content='🐾👑⚔️'\n"
     ]
    },
    {
     "data": {
      "text/plain": [
       "AIMessage(content='🐾👑⚔️')"
      ]
     },
     "execution_count": 46,
     "metadata": {},
     "output_type": "execute_result"
    }
   ],
   "source": [
    "invoke_chain(\"Black Panther\")\n"
   ]
  },
  {
   "cell_type": "code",
   "execution_count": 47,
   "id": "d1adcb38",
   "metadata": {},
   "outputs": [
    {
     "name": "stdout",
     "output_type": "stream",
     "text": [
      "content='🔮🧙‍♂️⏳'\n"
     ]
    },
    {
     "data": {
      "text/plain": [
       "AIMessage(content='🔮🧙\\u200d♂️⏳')"
      ]
     },
     "execution_count": 47,
     "metadata": {},
     "output_type": "execute_result"
    }
   ],
   "source": [
    "invoke_chain(\"Doctor Strange\")\n"
   ]
  },
  {
   "cell_type": "code",
   "execution_count": 48,
   "id": "e84e35fc",
   "metadata": {},
   "outputs": [
    {
     "name": "stdout",
     "output_type": "stream",
     "text": [
      "content='🐾👑⚔️'\n"
     ]
    },
    {
     "data": {
      "text/plain": [
       "AIMessage(content='🐾👑⚔️')"
      ]
     },
     "execution_count": 48,
     "metadata": {},
     "output_type": "execute_result"
    }
   ],
   "source": [
    "invoke_chain(\"What was the first movie I asked about?\")"
   ]
  },
  {
   "cell_type": "code",
   "execution_count": 49,
   "id": "f7df9e12",
   "metadata": {},
   "outputs": [
    {
     "name": "stdout",
     "output_type": "stream",
     "text": [
      "{'history': [HumanMessage(content='Black Panther'), AIMessage(content='🐾👑⚔️'), HumanMessage(content='Doctor Strange'), AIMessage(content='🔮🧙\\u200d♂️⏳'), HumanMessage(content='What was the first movie I asked about?'), AIMessage(content='🐾👑⚔️')]}\n"
     ]
    }
   ],
   "source": [
    "print(memory.load_memory_variables({}))\n"
   ]
  },
  {
   "cell_type": "code",
   "execution_count": 50,
   "id": "6462d395",
   "metadata": {},
   "outputs": [
    {
     "name": "stdout",
     "output_type": "stream",
     "text": [
      "content='🚢❄️💔'\n"
     ]
    },
    {
     "data": {
      "text/plain": [
       "AIMessage(content='🚢❄️💔')"
      ]
     },
     "execution_count": 50,
     "metadata": {},
     "output_type": "execute_result"
    }
   ],
   "source": [
    "invoke_chain(\"Titanic\")\n"
   ]
  }
 ],
 "metadata": {
  "kernelspec": {
   "display_name": "env",
   "language": "python",
   "name": "python3"
  },
  "language_info": {
   "codemirror_mode": {
    "name": "ipython",
    "version": 3
   },
   "file_extension": ".py",
   "mimetype": "text/x-python",
   "name": "python",
   "nbconvert_exporter": "python",
   "pygments_lexer": "ipython3",
   "version": "3.11.13"
  }
 },
 "nbformat": 4,
 "nbformat_minor": 5
}
